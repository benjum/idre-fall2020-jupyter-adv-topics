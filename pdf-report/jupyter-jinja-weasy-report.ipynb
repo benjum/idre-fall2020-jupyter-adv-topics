{
 "cells": [
  {
   "cell_type": "code",
   "execution_count": null,
   "metadata": {},
   "outputs": [],
   "source": [
    "# species_ext = %env species_ext\n",
    "species_ext = 'versicolor'"
   ]
  },
  {
   "cell_type": "code",
   "execution_count": null,
   "metadata": {},
   "outputs": [],
   "source": [
    "import warnings; warnings.simplefilter('ignore')\n",
    "import weasyprint\n",
    "import jinja2\n",
    "import matplotlib.pyplot as plt\n",
    "import seaborn as sns"
   ]
  },
  {
   "cell_type": "code",
   "execution_count": null,
   "metadata": {},
   "outputs": [],
   "source": [
    "df = sns.load_dataset(\"iris\")\n",
    "df.head()"
   ]
  },
  {
   "cell_type": "code",
   "execution_count": null,
   "metadata": {},
   "outputs": [],
   "source": [
    "sns.set(style='ticks')\n",
    "\n",
    "def speciesreport(s):\n",
    "    print('Mean sepal length of ' + str(df.loc[df['species']==s,('sepal_length')].mean()))\n",
    "    print('Mean sepal width of ' + str(df.loc[df['species']==s,('sepal_width')].mean()))\n",
    "    print('Mean petal length of ' + str(df.loc[df['species']==s,('petal_length')].mean()))\n",
    "    print('Mean petal width of ' + str(df.loc[df['species']==s,('petal_width')].mean()))\n",
    "    plt.subplots(figsize=(10,2))\n",
    "    plt.subplot(141)\n",
    "    sns.distplot(df.loc[df['species']==s,('sepal_length')])\n",
    "    plt.subplot(142)\n",
    "    sns.distplot(df.loc[df['species']==s,('sepal_width')])\n",
    "    plt.subplot(143)\n",
    "    sns.distplot(df.loc[df['species']==s,('petal_length')])\n",
    "    plt.subplot(144)\n",
    "    sns.distplot(df.loc[df['species']==s,('petal_width')])\n",
    "    plt.savefig('iris-plot-'+s+'.png')\n",
    "\n",
    "# widgets.interact(speciesreport,s=widgets.Dropdown(options=['setosa','versicolor','virginica'], description='Species'));\n",
    "speciesreport(species_ext)"
   ]
  },
  {
   "cell_type": "code",
   "execution_count": null,
   "metadata": {},
   "outputs": [],
   "source": [
    "env = jinja2.Environment(loader=jinja2.FileSystemLoader('.'))\n",
    "\n",
    "template = env.get_template(\"workshop-report.html\")\n",
    "\n",
    "template_vars = {\"title\" : \"Widget Plotting Report\",\n",
    "         \"name\" : \"Ben\",\n",
    "         \"reportdate\": \"February 14, 2019\",\n",
    "         \"first\": df.head(10).to_html(index=False),\n",
    "         \"species\": species_ext\n",
    "                }\n",
    "\n",
    "html_out = template.render(template_vars)\n",
    "\n",
    "weasyprint.HTML(string=html_out,base_url='./').write_pdf(\"workshop-report.pdf\",stylesheets=[\"style.css\"])\n"
   ]
  }
 ],
 "metadata": {
  "kernelspec": {
   "display_name": "Python 3",
   "language": "python",
   "name": "python3"
  },
  "language_info": {
   "codemirror_mode": {
    "name": "ipython",
    "version": 3
   },
   "file_extension": ".py",
   "mimetype": "text/x-python",
   "name": "python",
   "nbconvert_exporter": "python",
   "pygments_lexer": "ipython3",
   "version": "3.8.5"
  },
  "toc": {
   "base_numbering": 1,
   "nav_menu": {},
   "number_sections": true,
   "sideBar": true,
   "skip_h1_title": false,
   "title_cell": "Table of Contents",
   "title_sidebar": "Contents",
   "toc_cell": false,
   "toc_position": {},
   "toc_section_display": true,
   "toc_window_display": false
  }
 },
 "nbformat": 4,
 "nbformat_minor": 2
}
