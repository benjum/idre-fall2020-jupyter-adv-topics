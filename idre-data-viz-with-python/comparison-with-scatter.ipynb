{
 "cells": [
  {
   "cell_type": "markdown",
   "metadata": {},
   "source": [
    "# Scatter plots"
   ]
  },
  {
   "cell_type": "code",
   "execution_count": null,
   "metadata": {},
   "outputs": [],
   "source": [
    "%matplotlib inline\n",
    "\n",
    "# standard\n",
    "import matplotlib.pyplot as plt\n",
    "import pandas as pd\n",
    "import numpy as np\n",
    "\n",
    "# seaborn\n",
    "import seaborn as sns\n",
    "sns.set()\n",
    "sns.set_context('notebook', font_scale=1.5)\n",
    "cp = sns.color_palette()\n",
    "\n",
    "# ggplot\n",
    "import ggplot\n",
    "\n",
    "# altair\n",
    "import altair\n",
    "\n",
    "# registering converters\n",
    "from pandas.plotting import register_matplotlib_converters\n",
    "register_matplotlib_converters()"
   ]
  },
  {
   "cell_type": "markdown",
   "metadata": {},
   "source": [
    "## matplotlib"
   ]
  },
  {
   "cell_type": "code",
   "execution_count": null,
   "metadata": {},
   "outputs": [],
   "source": [
    "df = pd.read_csv('data/iris.csv')\n",
    "df.head()"
   ]
  },
  {
   "cell_type": "code",
   "execution_count": null,
   "metadata": {},
   "outputs": [],
   "source": [
    "fig, ax = plt.subplots(1, 1, figsize=(7.5, 5))\n",
    "\n",
    "for i, s in enumerate(df.species.unique()):\n",
    "    tmp = df[df.species == s]\n",
    "    ax.scatter(tmp.petalLength, tmp.petalWidth,\n",
    "               label=s)\n",
    "\n",
    "ax.set(xlabel='Petal Length',\n",
    "       ylabel='Petal Width',\n",
    "       title='Petal Width v. Length -- by Species')\n",
    "\n",
    "ax.legend(loc=2)\n",
    "fig.show()"
   ]
  },
  {
   "cell_type": "code",
   "execution_count": null,
   "metadata": {},
   "outputs": [],
   "source": [
    "fig, ax = plt.subplots(1, 1, figsize=(7.5, 5))\n",
    "\n",
    "def scatter(group):\n",
    "    plt.plot(group['petalLength'],\n",
    "             group['petalWidth'],\n",
    "             'o', label=group.name)\n",
    "\n",
    "df.groupby('species').apply(scatter)\n",
    "\n",
    "ax.set(xlabel='Petal Length',\n",
    "       ylabel='Petal Width',\n",
    "       title='Petal Width v. Length -- by Species')\n",
    "\n",
    "ax.legend(loc=2)\n",
    "fig.show()"
   ]
  },
  {
   "cell_type": "code",
   "execution_count": null,
   "metadata": {},
   "outputs": [],
   "source": [
    "fig, ax = plt.subplots(1, 3, figsize=(15, 5))\n",
    "\n",
    "for i, s in enumerate(df.species.unique()):\n",
    "    tmp = df[df.species == s]\n",
    "\n",
    "    ax[i].scatter(tmp.petalLength, tmp.petalWidth, c=cp[i])\n",
    "\n",
    "    ax[i].set(xlabel='Petal Length',\n",
    "              ylabel='Petal Width',\n",
    "              title=s)\n",
    "\n",
    "fig.tight_layout()"
   ]
  },
  {
   "cell_type": "code",
   "execution_count": null,
   "metadata": {},
   "outputs": [],
   "source": [
    "fig, ax = plt.subplots(1, 3, figsize=(15, 5))\n",
    "\n",
    "for i, s in enumerate(df.species.unique()):\n",
    "    tmp = df[df.species == s]\n",
    "\n",
    "    ax[i].scatter(tmp.petalLength,\n",
    "                  tmp.petalWidth,\n",
    "                  c=cp[i])\n",
    "\n",
    "    ax[i].set(xlabel='Petal Length',\n",
    "              ylabel='Petal Width',\n",
    "              title=s)\n",
    "\n",
    "    ax[i].set_ylim(bottom=0, top=1.05*np.max(df.petalWidth))\n",
    "    ax[i].set_xlim(left=0, right=1.05*np.max(df.petalLength))\n",
    "    \n",
    "fig.tight_layout()"
   ]
  },
  {
   "cell_type": "code",
   "execution_count": null,
   "metadata": {},
   "outputs": [],
   "source": [
    "tmp_n = df.shape[0] - df.shape[0]/2\n",
    "\n",
    "df['random_factor'] = np.random.permutation(['A'] * int(tmp_n) + ['B'] * int(df.shape[0] - tmp_n))\n",
    "df.head()"
   ]
  },
  {
   "cell_type": "code",
   "execution_count": null,
   "metadata": {},
   "outputs": [],
   "source": [
    "fig, ax = plt.subplots(2, 3, figsize=(15, 10))\n",
    "\n",
    "# this is preposterous -- don't do this\n",
    "for i, s in enumerate(df.species.unique()):\n",
    "    for j, r in enumerate(df.random_factor.sort_values().unique()):\n",
    "        tmp = df[(df.species == s) & (df.random_factor == r)]\n",
    "\n",
    "        ax[j][i].scatter(tmp.petalLength,\n",
    "                         tmp.petalWidth,\n",
    "                         c=cp[i+j])\n",
    "\n",
    "        ax[j][i].set(xlabel='Petal Length',\n",
    "                     ylabel='Petal Width',\n",
    "                     title=s + '--' + r)\n",
    "\n",
    "        ax[j][i].set_ylim(bottom=0, top=1.05*np.max(df.petalWidth))\n",
    "        ax[j][i].set_xlim(left=0, right=1.05*np.max(df.petalLength))\n",
    "    \n",
    "fig.tight_layout()"
   ]
  },
  {
   "cell_type": "markdown",
   "metadata": {},
   "source": [
    "## seaborn"
   ]
  },
  {
   "cell_type": "code",
   "execution_count": null,
   "metadata": {},
   "outputs": [],
   "source": [
    "g = sns.FacetGrid(df, hue='species', height=7.5)\n",
    "g.map(plt.scatter, 'petalLength', 'petalWidth').add_legend()\n",
    "g.ax.set_title('Petal Width v. Length -- by Species')"
   ]
  },
  {
   "cell_type": "code",
   "execution_count": null,
   "metadata": {},
   "outputs": [],
   "source": [
    "g = sns.FacetGrid(df, col='species', hue='species', height=5)\n",
    "g.map(plt.scatter, 'petalLength', 'petalWidth')"
   ]
  },
  {
   "cell_type": "code",
   "execution_count": null,
   "metadata": {},
   "outputs": [],
   "source": [
    "g = sns.FacetGrid(df.assign(tmp=df.species + df.random_factor).\\\n",
    "                      sort_values(['species', 'random_factor']),\n",
    "                  col='species', row='random_factor', hue='tmp', height=6)\n",
    "g.map(plt.scatter, 'petalLength', 'petalWidth')"
   ]
  },
  {
   "cell_type": "markdown",
   "metadata": {},
   "source": [
    "## ggplot"
   ]
  },
  {
   "cell_type": "code",
   "execution_count": null,
   "metadata": {},
   "outputs": [],
   "source": [
    "g = ggplot.ggplot(df, ggplot.aes(x='petalLength',\n",
    "                   y='petalWidth',\n",
    "                   color='species')) + \\\n",
    "        ggplot.geom_point(size=40.0) + \\\n",
    "        ggplot.ggtitle('Petal Width v. Length -- by Species')\n",
    "g.show()"
   ]
  },
  {
   "cell_type": "code",
   "execution_count": null,
   "metadata": {},
   "outputs": [],
   "source": [
    "g = ggplot.ggplot(df, ggplot.aes(x='petalLength',\n",
    "                   y='petalWidth',\n",
    "                   color='species')) + \\\n",
    "        ggplot.facet_grid(y='species') + \\\n",
    "        ggplot.geom_point(size=40.0)\n",
    "g.show()"
   ]
  },
  {
   "cell_type": "code",
   "execution_count": null,
   "metadata": {},
   "outputs": [],
   "source": [
    "g = ggplot.ggplot(df, ggplot.aes(x='petalLength',\n",
    "                   y='petalWidth',\n",
    "                   color='species')) + \\\n",
    "        ggplot.facet_grid(x='random_factor', y='species') + \\\n",
    "        ggplot.geom_point(size=40.0)\n",
    "g.show()"
   ]
  },
  {
   "cell_type": "markdown",
   "metadata": {},
   "source": [
    "## altair"
   ]
  },
  {
   "cell_type": "code",
   "execution_count": null,
   "metadata": {},
   "outputs": [],
   "source": [
    "c = altair.Chart(df).mark_point(filled=True).encode(\n",
    "    x='petalLength',\n",
    "    y='petalWidth',\n",
    "    color='species'\n",
    ")\n",
    "c"
   ]
  },
  {
   "cell_type": "code",
   "execution_count": null,
   "metadata": {},
   "outputs": [],
   "source": [
    "c = altair.Chart(df).mark_point().encode(\n",
    "    x='petalLength',\n",
    "    y='petalWidth',\n",
    "    color='species',\n",
    "    column=altair.Column('species',\n",
    "                  title='Petal Width v. Length by Species')\n",
    ")\n",
    "# c.configure_cell(height=300, width=300)\n",
    "c.properties(width=300, height=300)"
   ]
  },
  {
   "cell_type": "code",
   "execution_count": null,
   "metadata": {},
   "outputs": [],
   "source": [
    "c = altair.Chart(df).mark_point().encode(\n",
    "    x='petalLength',\n",
    "    y='petalWidth',\n",
    "    color='species',\n",
    "    column=altair.Column('species',\n",
    "                  title='Petal Width v. Length by Species'),\n",
    "    row='random_factor'\n",
    ")\n",
    "# c.configure_cell(height=200, width=200)\n",
    "c.properties(width=200, height=200)"
   ]
  },
  {
   "cell_type": "markdown",
   "metadata": {},
   "source": [
    "## plotly"
   ]
  },
  {
   "cell_type": "code",
   "execution_count": null,
   "metadata": {},
   "outputs": [],
   "source": [
    "# from plotly.offline import init_notebook_mode, iplot\n",
    "import plotly.graph_objs as go\n",
    "# init_notebook_mode(connected=True)\n",
    "import plotly.express as px"
   ]
  },
  {
   "cell_type": "code",
   "execution_count": null,
   "metadata": {},
   "outputs": [],
   "source": [
    "fig = px.scatter(df, x='petalLength', y='petalWidth', color=\"species\")\n",
    "fig.show()"
   ]
  },
  {
   "cell_type": "code",
   "execution_count": null,
   "metadata": {},
   "outputs": [],
   "source": [
    "fig = px.scatter(df, x='petalLength', y='petalWidth', color=\"species\",\n",
    "                 size='sepalLength', hover_data=['sepalWidth'])\n",
    "fig.show()"
   ]
  },
  {
   "cell_type": "code",
   "execution_count": null,
   "metadata": {},
   "outputs": [],
   "source": [
    "px.scatter_3d(df,x='petalLength',y='petalWidth',z='sepalLength',color='species')"
   ]
  },
  {
   "cell_type": "code",
   "execution_count": null,
   "metadata": {},
   "outputs": [],
   "source": []
  }
 ],
 "metadata": {
  "kernelspec": {
   "display_name": "Python 3",
   "language": "python",
   "name": "python3"
  },
  "language_info": {
   "codemirror_mode": {
    "name": "ipython",
    "version": 3
   },
   "file_extension": ".py",
   "mimetype": "text/x-python",
   "name": "python",
   "nbconvert_exporter": "python",
   "pygments_lexer": "ipython3",
   "version": "3.8.5"
  },
  "toc": {
   "base_numbering": 1,
   "nav_menu": {},
   "number_sections": true,
   "sideBar": true,
   "skip_h1_title": false,
   "title_cell": "Table of Contents",
   "title_sidebar": "Contents",
   "toc_cell": false,
   "toc_position": {},
   "toc_section_display": true,
   "toc_window_display": false
  }
 },
 "nbformat": 4,
 "nbformat_minor": 2
}
