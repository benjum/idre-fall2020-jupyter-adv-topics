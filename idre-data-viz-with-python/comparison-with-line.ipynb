{
 "cells": [
  {
   "cell_type": "markdown",
   "metadata": {},
   "source": [
    "# Line plots"
   ]
  },
  {
   "cell_type": "code",
   "execution_count": null,
   "metadata": {},
   "outputs": [],
   "source": [
    "%matplotlib inline\n",
    "\n",
    "# standard\n",
    "import matplotlib.pyplot as plt\n",
    "import pandas as pd\n",
    "import numpy as np\n",
    "\n",
    "# seaborn\n",
    "import seaborn as sns\n",
    "sns.set()\n",
    "sns.set_context('notebook', font_scale=1.5)\n",
    "cp = sns.color_palette()\n",
    "\n",
    "# ggplot\n",
    "import ggplot\n",
    "\n",
    "# altair\n",
    "import altair\n",
    "\n",
    "# registering converters\n",
    "from pandas.plotting import register_matplotlib_converters\n",
    "register_matplotlib_converters()"
   ]
  },
  {
   "cell_type": "markdown",
   "metadata": {},
   "source": [
    "## matplotlib"
   ]
  },
  {
   "cell_type": "code",
   "execution_count": null,
   "metadata": {},
   "outputs": [],
   "source": [
    "ts = pd.read_csv('data/ts.csv')\n",
    "\n",
    "# casting to datetime is important for\n",
    "# ensuring plots \"just work\"\n",
    "ts = ts.assign(dt = pd.to_datetime(ts.dt))\n",
    "ts.head()"
   ]
  },
  {
   "cell_type": "code",
   "execution_count": null,
   "metadata": {},
   "outputs": [],
   "source": [
    "fig, ax = plt.subplots(1, 1, figsize=(7.5, 5))\n",
    "\n",
    "for k in ts.kind.unique():\n",
    "    tmp = ts[ts.kind == k]\n",
    "    ax.plot(tmp.dt, tmp.value, label=k)\n",
    "\n",
    "ax.set(xlabel='Date',\n",
    "       ylabel='Value',\n",
    "       title='Random Timeseries')    \n",
    "    \n",
    "ax.legend(loc=2)\n",
    "fig.autofmt_xdate()"
   ]
  },
  {
   "cell_type": "code",
   "execution_count": null,
   "metadata": {},
   "outputs": [],
   "source": [
    "dfp = ts.pivot(index='dt', columns='kind', values='value')\n",
    "dfp.head()"
   ]
  },
  {
   "cell_type": "code",
   "execution_count": null,
   "metadata": {},
   "outputs": [],
   "source": [
    "fig, ax = plt.subplots(1, 1,\n",
    "                       figsize=(7.5, 5))\n",
    "\n",
    "ax.plot(dfp)\n",
    "\n",
    "ax.set(xlabel='Date',\n",
    "       ylabel='Value',\n",
    "       title='Random Timeseries')\n",
    "\n",
    "ax.legend(dfp.columns, loc=2)\n",
    "fig.autofmt_xdate()"
   ]
  },
  {
   "cell_type": "code",
   "execution_count": null,
   "metadata": {},
   "outputs": [],
   "source": [
    "fig, ax = plt.subplots(1, 1, figsize=(7.5, 5))\n",
    "\n",
    "def scatter(group):\n",
    "    plt.plot(group['dt'],\n",
    "             group['value'],\n",
    "             label=group.name)\n",
    "\n",
    "ts.groupby('kind').apply(scatter)\n",
    "\n",
    "ax.set(xlabel='Petal Length',\n",
    "       ylabel='Petal Width',\n",
    "       title='Petal Width v. Length -- by Species')\n",
    "\n",
    "ax.legend(loc=2)\n",
    "fig.autofmt_xdate()"
   ]
  },
  {
   "cell_type": "code",
   "execution_count": null,
   "metadata": {},
   "outputs": [],
   "source": [
    "fig, ax = plt.subplots(2, 2, figsize=(10, 10))\n",
    "\n",
    "for i, k in enumerate(ts.kind.unique()):\n",
    "    ax = plt.subplot(int('22' + str(i + 1)))\n",
    "    tmp = ts[ts.kind == k]\n",
    "    ax.plot(tmp.dt, tmp.value, label=k, c=cp[i])\n",
    "\n",
    "    ax.set(xlabel='Date',\n",
    "           ylabel='Value',\n",
    "           title=k)    \n",
    "    \n",
    "fig.autofmt_xdate()\n",
    "fig.tight_layout()"
   ]
  },
  {
   "cell_type": "markdown",
   "metadata": {},
   "source": [
    "## seaborn"
   ]
  },
  {
   "cell_type": "code",
   "execution_count": null,
   "metadata": {},
   "outputs": [],
   "source": [
    "g = sns.FacetGrid(ts, hue='kind', height=5, aspect=1.5)\n",
    "\n",
    "# map applies a plotting function to each facet’s subset of the data.\n",
    "g.map(plt.plot, 'dt', 'value').add_legend()\n",
    "g.ax.set(xlabel='Date',\n",
    "         ylabel='Value',\n",
    "         title='Random Timeseries')\n",
    "g.fig.autofmt_xdate()"
   ]
  },
  {
   "cell_type": "code",
   "execution_count": null,
   "metadata": {},
   "outputs": [],
   "source": [
    "g = sns.FacetGrid(ts, row='kind', hue='kind', height=5, aspect=1.5)\n",
    "g.map(plt.plot, 'dt', 'value').add_legend()\n",
    "\n",
    "g.fig.autofmt_xdate()"
   ]
  },
  {
   "cell_type": "markdown",
   "metadata": {},
   "source": [
    "## ggplot"
   ]
  },
  {
   "cell_type": "code",
   "execution_count": null,
   "metadata": {},
   "outputs": [],
   "source": [
    "g = ggplot.ggplot(ts, ggplot.aes(x='dt', y='value', color='kind')) + \\\n",
    "        ggplot.geom_line(size=2.0) + \\\n",
    "        ggplot.xlab('Date') + \\\n",
    "        ggplot.ylab('Value') + \\\n",
    "        ggplot.ggtitle('Random Timeseries')\n",
    "g.show()"
   ]
  },
  {
   "cell_type": "code",
   "execution_count": null,
   "metadata": {},
   "outputs": [],
   "source": [
    "fig, ax = plt.subplots(2, 2, figsize=(10, 10))\n",
    "\n",
    "g = ggplot.ggplot(ts, ggplot.aes(x='dt', y='value', color='kind')) + \\\n",
    "        ggplot.geom_line(size=2.0) + \\\n",
    "        ggplot.facet_wrap(x='kind', ncol=2) + \\\n",
    "        ggplot.ggtitle('Random Timeseries')\n",
    "g.show()"
   ]
  },
  {
   "cell_type": "markdown",
   "metadata": {},
   "source": [
    "## altair"
   ]
  },
  {
   "cell_type": "code",
   "execution_count": null,
   "metadata": {},
   "outputs": [],
   "source": [
    "c = altair.Chart(ts).mark_line().encode(\n",
    "    x='dt',\n",
    "    y='value',\n",
    "    color='kind'\n",
    ")\n",
    "c"
   ]
  },
  {
   "cell_type": "code",
   "execution_count": null,
   "metadata": {},
   "outputs": [],
   "source": [
    "c = altair.Chart(ts).mark_line().encode(\n",
    "    x='dt',\n",
    "    y='value',\n",
    "    color=altair.Color('kind', scale=altair.Scale(range=cp.as_hex()))\n",
    ")\n",
    "c"
   ]
  },
  {
   "cell_type": "code",
   "execution_count": null,
   "metadata": {},
   "outputs": [],
   "source": [
    "selopac = altair.selection_multi(fields=['kind'], bind='legend')\n",
    "\n",
    "c = altair.Chart(ts).mark_line().encode(\n",
    "    x='dt',\n",
    "    y='value',\n",
    "    color=altair.Color('kind', scale=altair.Scale(range=cp.as_hex())),\n",
    "    opacity=altair.condition(selopac, altair.value(1), altair.value(0.2))\n",
    ").add_selection(\n",
    "    selopac\n",
    ")\n",
    "c"
   ]
  },
  {
   "cell_type": "code",
   "execution_count": null,
   "metadata": {},
   "outputs": [],
   "source": [
    "# Create a selection that chooses the nearest point & selects based on x-value\n",
    "nearest = altair.selection(type='single', nearest=True, on='mouseover',\n",
    "                        fields=['dt'], empty='none')\n",
    "\n",
    "\n",
    "c = altair.Chart(ts).mark_line().encode(\n",
    "    x='dt',\n",
    "    y='value',\n",
    "    color=altair.Color('kind', scale=altair.Scale(range=cp.as_hex()))\n",
    ")\n",
    "\n",
    "# Transparent selectors across the chart. This is what tells us\n",
    "# the x-value of the cursor\n",
    "selectors = altair.Chart(ts).mark_point().encode(\n",
    "    x='dt',\n",
    "    opacity=altair.value(0),\n",
    ").add_selection(\n",
    "    nearest\n",
    ")\n",
    "\n",
    "# Draw points on the line, and highlight based on selection\n",
    "points = c.mark_point().encode(\n",
    "    opacity=altair.condition(nearest, altair.value(1), altair.value(0))\n",
    ")\n",
    "\n",
    "# Draw text labels near the points, and highlight based on selection\n",
    "text = c.mark_text(align='left', dx=5, dy=-5).encode(\n",
    "    text=altair.condition(nearest, 'value', altair.value(' '))\n",
    ")\n",
    "\n",
    "# Draw a rule at the location of the selection\n",
    "rules = altair.Chart(ts).mark_rule(color='gray').encode(\n",
    "    x='dt',\n",
    ").transform_filter(\n",
    "    nearest\n",
    ")\n",
    "\n",
    "# Put the five layers into a chart and bind the data\n",
    "altair.layer(\n",
    "    c, selectors, points, rules, text\n",
    ").properties(\n",
    "    width=600, height=300\n",
    ")"
   ]
  },
  {
   "cell_type": "markdown",
   "metadata": {},
   "source": [
    "## plotly"
   ]
  },
  {
   "cell_type": "code",
   "execution_count": null,
   "metadata": {},
   "outputs": [],
   "source": [
    "import plotly.express as px\n",
    "\n",
    "fig = px.line(ts, x=\"dt\", y=\"value\", color='kind')\n",
    "fig.show()"
   ]
  },
  {
   "cell_type": "code",
   "execution_count": null,
   "metadata": {},
   "outputs": [],
   "source": [
    "import plotly.express as px\n",
    "\n",
    "fig = px.line(ts, x=\"dt\", y=\"value\", color='kind')\n",
    "fig.update_layout(\n",
    "    width=750,\n",
    "    height=500,\n",
    "    plot_bgcolor=\"White\"\n",
    ")\n",
    "fig.update_xaxes(showline=True, linecolor='black', showgrid=True, gridwidth=1, gridcolor='LightBlue')\n",
    "fig.update_yaxes(showline=True, linecolor='black', showgrid=True, gridwidth=1, gridcolor='LightBlue')\n",
    "fig.show()"
   ]
  },
  {
   "cell_type": "code",
   "execution_count": null,
   "metadata": {},
   "outputs": [],
   "source": []
  }
 ],
 "metadata": {
  "kernelspec": {
   "display_name": "Python 3",
   "language": "python",
   "name": "python3"
  },
  "language_info": {
   "codemirror_mode": {
    "name": "ipython",
    "version": 3
   },
   "file_extension": ".py",
   "mimetype": "text/x-python",
   "name": "python",
   "nbconvert_exporter": "python",
   "pygments_lexer": "ipython3",
   "version": "3.8.5"
  },
  "toc": {
   "base_numbering": 1,
   "nav_menu": {},
   "number_sections": true,
   "sideBar": true,
   "skip_h1_title": false,
   "title_cell": "Table of Contents",
   "title_sidebar": "Contents",
   "toc_cell": false,
   "toc_position": {},
   "toc_section_display": true,
   "toc_window_display": false
  }
 },
 "nbformat": 4,
 "nbformat_minor": 2
}
