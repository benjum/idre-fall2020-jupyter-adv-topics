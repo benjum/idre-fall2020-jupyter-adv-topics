{
 "cells": [
  {
   "cell_type": "markdown",
   "metadata": {},
   "source": [
    "# Seaborn"
   ]
  },
  {
   "cell_type": "code",
   "execution_count": null,
   "metadata": {},
   "outputs": [],
   "source": [
    "%matplotlib inline\n",
    "import matplotlib\n",
    "import matplotlib.pyplot as plt\n",
    "import numpy as np\n",
    "import seaborn as sns"
   ]
  },
  {
   "cell_type": "code",
   "execution_count": null,
   "metadata": {},
   "outputs": [],
   "source": [
    "%%HTML\n",
    "<table>\n",
    "  <tr>\n",
    "    <th>Iris Setosa</th>\n",
    "    <th>Iris Versicolor</th>\n",
    "    <th>Iris Virginica</th>\n",
    "  </tr>\n",
    "  <tr>\n",
    "    <td><img src='data/iris_setosa.jpg' width=200></td>\n",
    "    <td><img src='data/iris_versicolor.jpg' width=200></td>\n",
    "    <td><img src='data/iris_virginica.jpg' width=200></td>\n",
    "  </tr>\n",
    "</table>"
   ]
  },
  {
   "cell_type": "code",
   "execution_count": null,
   "metadata": {},
   "outputs": [],
   "source": [
    "df = sns.load_dataset(\"iris\")\n",
    "df.head()"
   ]
  },
  {
   "cell_type": "code",
   "execution_count": null,
   "metadata": {},
   "outputs": [],
   "source": [
    "species = df['species'].unique().tolist()"
   ]
  },
  {
   "cell_type": "code",
   "execution_count": null,
   "metadata": {},
   "outputs": [],
   "source": [
    "x1 = df.loc[df['species']=='setosa',('petal_width')]\n",
    "y1 = df.loc[df['species']=='setosa',('petal_length')]\n",
    "x2 = df.loc[df['species']=='versicolor',('petal_width')]\n",
    "y2 = df.loc[df['species']=='versicolor',('petal_length')]\n",
    "x3 = df.loc[df['species']=='virginica',('petal_width')]\n",
    "y3 = df.loc[df['species']=='virginica',('petal_length')]\n",
    "\n",
    "plt.plot(figsize=(7, 6))\n",
    "plt.scatter(x1,y1,c='blue')\n",
    "plt.scatter(x2,y2,c='green')\n",
    "plt.scatter(x3,y3,c='red')\n",
    "plt.xlabel('petal_width')\n",
    "plt.ylabel('petal_length')\n",
    "plt.show()"
   ]
  },
  {
   "cell_type": "markdown",
   "metadata": {},
   "source": [
    "# Seaborn"
   ]
  },
  {
   "cell_type": "code",
   "execution_count": null,
   "metadata": {},
   "outputs": [],
   "source": [
    "sns.set(style=\"whitegrid\")"
   ]
  },
  {
   "cell_type": "code",
   "execution_count": null,
   "metadata": {},
   "outputs": [],
   "source": [
    "plt.scatter(df.petal_length,df.petal_width);"
   ]
  },
  {
   "cell_type": "code",
   "execution_count": null,
   "metadata": {},
   "outputs": [],
   "source": [
    "sns.scatterplot(df.petal_length,df.petal_width);"
   ]
  },
  {
   "cell_type": "code",
   "execution_count": null,
   "metadata": {},
   "outputs": [],
   "source": [
    "sns.scatterplot(x=df.petal_length,y=df.petal_width,style=df.species);"
   ]
  },
  {
   "cell_type": "code",
   "execution_count": null,
   "metadata": {},
   "outputs": [],
   "source": [
    "sns.set(style='whitegrid')\n",
    "sns.scatterplot(x=df.petal_length,y=df.petal_width,hue=df.species);"
   ]
  },
  {
   "cell_type": "code",
   "execution_count": null,
   "metadata": {},
   "outputs": [],
   "source": [
    "sns.pairplot(df,hue='species');"
   ]
  },
  {
   "cell_type": "code",
   "execution_count": null,
   "metadata": {},
   "outputs": [],
   "source": [
    "sns.regplot(x=df.petal_length,y=df.petal_width);"
   ]
  }
 ],
 "metadata": {
  "kernelspec": {
   "display_name": "Python 3",
   "language": "python",
   "name": "python3"
  },
  "language_info": {
   "codemirror_mode": {
    "name": "ipython",
    "version": 3
   },
   "file_extension": ".py",
   "mimetype": "text/x-python",
   "name": "python",
   "nbconvert_exporter": "python",
   "pygments_lexer": "ipython3",
   "version": "3.8.5"
  },
  "toc": {
   "base_numbering": 1,
   "nav_menu": {},
   "number_sections": true,
   "sideBar": true,
   "skip_h1_title": false,
   "title_cell": "Table of Contents",
   "title_sidebar": "Contents",
   "toc_cell": false,
   "toc_position": {},
   "toc_section_display": true,
   "toc_window_display": false
  }
 },
 "nbformat": 4,
 "nbformat_minor": 2
}
